{
 "cells": [
  {
   "cell_type": "code",
   "execution_count": null,
   "id": "f29cd3d2-3289-49a8-9e7d-97f2006e9e4a",
   "metadata": {},
   "outputs": [],
   "source": [
    "from scipy.stats import skewnorm\n",
    "import matplotlib.pyplot as plt\n",
    "\n",
    "# Inputs\n",
    "numValues = 1000\n",
    "maxValue = 100\n",
    "skewness = -10  # Negative values are left skewed, positive values are right skewed\n",
    "\n",
    "# Generate random values\n",
    "values = skewnorm.rvs(a=skewness, loc=maxValue, size=numValues)\n",
    "\n",
    "# Normalize values\n",
    "values = values - min(values)       # Shift the set so the minimum value is zero\n",
    "values = values / max(values)       # Standardize values between 0 and 1\n",
    "values = values * maxValue          # Scale to desired range\n",
    "\n",
    "# Plot histogram to check skewness\n",
    "plt.hist(values)\n",
    "plt.title(\"Skewed Normal Distribution\")\n",
    "plt.xlabel(\"Value\")\n",
    "plt.ylabel(\"Frequency\")\n",
    "plt.grid(True)\n",
    "plt.show()\n"
   ]
  }
 ],
 "metadata": {
  "kernelspec": {
   "display_name": "Python 3 (ipykernel)",
   "language": "python",
   "name": "python3"
  },
  "language_info": {
   "codemirror_mode": {
    "name": "ipython",
    "version": 3
   },
   "file_extension": ".py",
   "mimetype": "text/x-python",
   "name": "python",
   "nbconvert_exporter": "python",
   "pygments_lexer": "ipython3",
   "version": "3.11.7"
  },
  "widgets": {
   "application/vnd.jupyter.widget-state+json": {
    "state": {},
    "version_major": 2,
    "version_minor": 0
   }
  }
 },
 "nbformat": 4,
 "nbformat_minor": 5
}
